{
 "cells": [
  {
   "cell_type": "code",
   "execution_count": 131,
   "outputs": [],
   "source": [
    "import pandas as pd\n",
    "import numpy as np\n",
    "import matplotlib.pyplot as plt\n",
    "from sklearn.linear_model import Ridge\n",
    "from sklearn.model_selection import KFold, cross_val_score, train_test_split\n",
    "import warnings\n",
    "warnings.filterwarnings(\"ignore\")\n",
    "warnings.filterwarnings(\"ignore\", category=DeprecationWarning)\n",
    "from scipy.special import boxcox1p\n",
    "from sklearn.ensemble import RandomForestRegressor,  GradientBoostingRegressor\n",
    "from sklearn.preprocessing import LabelEncoder\n",
    "from scipy.stats import skew #for some statistics\n",
    "from sklearn.linear_model import ElasticNet, Lasso,  BayesianRidge, LassoLarsIC\n",
    "from sklearn.ensemble import RandomForestRegressor,  GradientBoostingRegressor\n",
    "from sklearn.kernel_ridge import KernelRidge\n",
    "from sklearn.pipeline import make_pipeline\n",
    "from sklearn.preprocessing import RobustScaler\n",
    "from sklearn.base import BaseEstimator, TransformerMixin, RegressorMixin, clone\n",
    "from sklearn.model_selection import KFold, cross_val_score, train_test_split\n",
    "from sklearn.linear_model import LassoCV\n",
    "from sklearn.linear_model import ElasticNet\n",
    "from sklearn.model_selection import GridSearchCV\n",
    "from tune_sklearn import TuneGridSearchCV\n",
    "from sklearn.metrics import mean_squared_error\n",
    "import xgboost as xgb\n",
    "import lightgbm as lgb\n",
    "%matplotlib inline"
   ],
   "metadata": {
    "collapsed": false,
    "ExecuteTime": {
     "start_time": "2023-04-23T22:07:58.510596Z",
     "end_time": "2023-04-23T22:07:58.572104Z"
    }
   }
  },
  {
   "cell_type": "code",
   "execution_count": 132,
   "outputs": [],
   "source": [
    "n_folds = 5\n",
    "\n",
    "def rmsle_cv(model):\n",
    "    kf = KFold(n_folds, shuffle=True, random_state=42).get_n_splits(x_train.values)\n",
    "    rmse= np.sqrt(-cross_val_score(model, x_train.values, y_train.values, scoring=\"neg_mean_squared_error\", cv = kf))\n",
    "    return(rmse)\n",
    "\n",
    "class AveragingModels(BaseEstimator, RegressorMixin, TransformerMixin):\n",
    "    def __init__(self, models):\n",
    "        self.models = models\n",
    "\n",
    "    # we define clones of the original models to fit the data in\n",
    "    def fit(self, X, y):\n",
    "        self.models_ = [clone(x) for x in self.models]\n",
    "\n",
    "        # Train cloned base models\n",
    "        for model in self.models_:\n",
    "            model.fit(X, y)\n",
    "\n",
    "        return self\n",
    "\n",
    "    #Now we do the predictions for cloned models and average them\n",
    "    def predict(self, X):\n",
    "        predictions = np.column_stack([\n",
    "            model.predict(X) for model in self.models_\n",
    "        ])\n",
    "        return np.mean(predictions, axis=1)"
   ],
   "metadata": {
    "collapsed": false,
    "ExecuteTime": {
     "start_time": "2023-04-23T22:07:58.525971Z",
     "end_time": "2023-04-23T22:07:58.572596Z"
    }
   }
  },
  {
   "cell_type": "code",
   "execution_count": 133,
   "outputs": [],
   "source": [
    "test_df = pd.read_csv('test.csv' )\n",
    "train_df = pd.read_csv('train.csv' )"
   ],
   "metadata": {
    "collapsed": false,
    "ExecuteTime": {
     "start_time": "2023-04-23T22:07:58.540357Z",
     "end_time": "2023-04-23T22:07:58.572596Z"
    }
   }
  },
  {
   "cell_type": "code",
   "execution_count": 134,
   "outputs": [],
   "source": [
    "upperlimit = np.percentile(train_df.SalePrice.values, 99.5)\n",
    "train_df['SalePrice'].loc[train_df['SalePrice']>upperlimit] = upperlimit\n",
    "\n",
    "# GrLivArea Outliter,\n",
    "train_df = train_df[train_df.GrLivArea < 4500]\n",
    "train_df.reset_index(drop=True, inplace=True)\n",
    "train_df[\"SalePrice\"] = np.log1p(train_df[\"SalePrice\"])\n",
    "y = train_df['SalePrice'].reset_index(drop=True)\n",
    "\n",
    "train_features = train_df.drop(['SalePrice'], axis=1)\n",
    "test_features = test_df\n",
    "total_features = pd.concat([train_features, test_features]).reset_index(drop=True)\n",
    "\n",
    "# Removing for strange GarageCars\n",
    "train_df = train_df.drop(train_df[(train_df['GarageCars']>3)\n",
    "                                  & (train_df['SalePrice']<350000)].index).reset_index(drop=True)\n",
    "\n",
    "train_features = train_df.drop(['SalePrice'], axis=1)\n",
    "test_features = test_df\n",
    "total_features = pd.concat([train_features, test_features]).reset_index(drop=True)\n",
    "\n",
    "# Since these column are actually a category , using a numerical number will lead the model to assume\n",
    "# that it is numerical , so we convert to string .\n",
    "total_features['MSSubClass'] = total_features['MSSubClass'].apply(str)\n",
    "total_features['YrSold'] = total_features['YrSold'].astype(str)\n",
    "total_features['MoSold'] = total_features['MoSold'].astype(str)\n",
    "\n",
    "\n",
    "\n",
    "## Filling these columns With most suitable value for these columns\n",
    "total_features['Functional'] = total_features['Functional'].fillna('Typ')\n",
    "total_features['Electrical'] = total_features['Electrical'].fillna(\"SBrkr\")\n",
    "total_features['KitchenQual'] = total_features['KitchenQual'].fillna(\"TA\")\n",
    "total_features[\"PoolQC\"] = total_features[\"PoolQC\"].fillna(\"None\")\n",
    "\n",
    "\n",
    "\n",
    "## Filling these with MODE , i.e. , the most frequent value in these columns .\n",
    "total_features['Exterior1st'] = total_features['Exterior1st'].fillna(total_features['Exterior1st'].mode()[0])\n",
    "total_features['Exterior2nd'] = total_features['Exterior2nd'].fillna(total_features['Exterior2nd'].mode()[0])\n",
    "total_features['SaleType'] = total_features['SaleType'].fillna(total_features['SaleType'].mode()[0])\n",
    "\n",
    "## Missing data in GarageYrBit most probably means missing Garage , so replace NaN with zero .\n",
    "\n",
    "for col in ('GarageYrBlt', 'GarageArea', 'GarageCars'):\n",
    "    total_features[col] = total_features[col].fillna(0)\n",
    "\n",
    "for col in ['GarageType', 'GarageFinish', 'GarageQual', 'GarageCond']:\n",
    "    total_features[col] = total_features[col].fillna('None')\n",
    "\n",
    "\n",
    "## Same with basement features\n",
    "\n",
    "for col in ('BsmtQual', 'BsmtCond', 'BsmtExposure', 'BsmtFinType1', 'BsmtFinType2'):\n",
    "    total_features[col] = total_features[col].fillna('None')\n",
    "\n",
    "total_features['MSZoning'] = total_features.groupby('MSSubClass')['MSZoning'].transform(lambda x: x.fillna(x.mode()[0]))\n",
    "\n",
    "objects = []\n",
    "for i in total_features.columns:\n",
    "    if total_features[i].dtype == object:\n",
    "        objects.append(i)\n",
    "total_features.update(total_features[objects].fillna('None'))\n",
    "\n",
    "# We are still filling up missing values\n",
    "total_features['LotFrontage'] = total_features.groupby('Neighborhood')['LotFrontage'].transform(lambda x: x.fillna(x.median()))\n",
    "\n",
    "numeric_dtypes = ['int16', 'int32', 'int64', 'float16', 'float32', 'float64']\n",
    "numerics = []\n",
    "for i in total_features.columns:\n",
    "    if total_features[i].dtype in numeric_dtypes:\n",
    "        numerics.append(i)\n",
    "total_features.update(total_features[numerics].fillna(0))"
   ],
   "metadata": {
    "collapsed": false,
    "ExecuteTime": {
     "start_time": "2023-04-23T22:07:58.577060Z",
     "end_time": "2023-04-23T22:07:58.664852Z"
    }
   }
  },
  {
   "cell_type": "code",
   "execution_count": 135,
   "outputs": [
    {
     "name": "stdout",
     "output_type": "stream",
     "text": [
      "Shape all_data: (2912, 77)\n"
     ]
    }
   ],
   "source": [
    "#MSSubClass=The building class\n",
    "total_features['MSSubClass'] = total_features['MSSubClass'].apply(str)\n",
    "\n",
    "\n",
    "#Changing OverallCond into a categorical variable\n",
    "total_features['OverallCond'] = total_features['OverallCond'].astype(str)\n",
    "\n",
    "\n",
    "#Year and month sold are transformed into categorical features.\n",
    "total_features['YrSold'] = total_features['YrSold'].astype(str)\n",
    "total_features['MoSold'] = total_features['MoSold'].astype(str)\n",
    "\n",
    "# Removing features that are not very useful . This can be understood only by doing proper EDA on data\n",
    "\n",
    "total_features = total_features.drop(['Utilities', 'Street', 'PoolQC',], axis=1)\n",
    "\n",
    "\n",
    "cols = ('FireplaceQu', 'BsmtQual', 'BsmtCond', 'GarageQual', 'GarageCond',\n",
    "        'ExterQual', 'ExterCond','HeatingQC', 'KitchenQual', 'BsmtFinType1',\n",
    "        'BsmtFinType2', 'Functional', 'Fence', 'BsmtExposure', 'GarageFinish', 'LandSlope',\n",
    "        'LotShape', 'PavedDrive',  'Alley', 'CentralAir', 'MSSubClass', 'OverallCond',\n",
    "        'YrSold', 'MoSold')\n",
    "# process columns, apply LabelEncoder to categorical features\n",
    "for c in cols:\n",
    "    lbl = LabelEncoder()\n",
    "    lbl.fit(list(total_features[c].values))\n",
    "    total_features[c] = lbl.transform(list(total_features[c].values))\n",
    "\n",
    "print('Shape all_data: {}'.format(total_features.shape))"
   ],
   "metadata": {
    "collapsed": false,
    "ExecuteTime": {
     "start_time": "2023-04-23T22:07:58.664852Z",
     "end_time": "2023-04-23T22:07:58.738756Z"
    }
   }
  },
  {
   "cell_type": "code",
   "execution_count": 136,
   "outputs": [
    {
     "name": "stdout",
     "output_type": "stream",
     "text": [
      "(2912, 82)\n",
      "(2912, 87)\n",
      "\n",
      "Skew in numerical features: \n"
     ]
    },
    {
     "data": {
      "text/plain": "(2912, 228)"
     },
     "execution_count": 136,
     "metadata": {},
     "output_type": "execute_result"
    }
   ],
   "source": [
    "# Adding new features . Make sure that you understand this.\n",
    "\n",
    "total_features['YrBltAndRemod']=total_features['YearBuilt']+total_features['YearRemodAdd']\n",
    "total_features['TotalSF']=total_features['TotalBsmtSF'] + total_features['1stFlrSF'] + total_features['2ndFlrSF']\n",
    "\n",
    "total_features['Total_sqr_footage'] = (total_features['BsmtFinSF1'] + total_features['BsmtFinSF2'] +\n",
    "                                       total_features['1stFlrSF'] + total_features['2ndFlrSF'])\n",
    "\n",
    "total_features['Total_Bathrooms'] = (total_features['FullBath'] + (0.5 * total_features['HalfBath']) +\n",
    "                                     total_features['BsmtFullBath'] + (0.5 * total_features['BsmtHalfBath']))\n",
    "\n",
    "total_features['Total_porch_sf'] = (total_features['OpenPorchSF'] + total_features['3SsnPorch'] +\n",
    "                                    total_features['EnclosedPorch'] + total_features['ScreenPorch'] +\n",
    "                                    total_features['WoodDeckSF'])\n",
    "\n",
    "print(total_features.shape)\n",
    "## For ex, if PoolArea = 0 , Then HasPool = 0 too\n",
    "\n",
    "total_features['haspool'] = total_features['PoolArea'].apply(lambda x: 1 if x > 0 else 0)\n",
    "total_features['has2ndfloor'] = total_features['2ndFlrSF'].apply(lambda x: 1 if x > 0 else 0)\n",
    "total_features['hasgarage'] = total_features['GarageArea'].apply(lambda x: 1 if x > 0 else 0)\n",
    "total_features['hasbsmt'] = total_features['TotalBsmtSF'].apply(lambda x: 1 if x > 0 else 0)\n",
    "total_features['hasfireplace'] = total_features['Fireplaces'].apply(lambda x: 1 if x > 0 else 0)\n",
    "\n",
    "print(total_features.shape)\n",
    "numeric_feats = total_features.dtypes[total_features.dtypes != \"object\"].index\n",
    "\n",
    "# Check the skew of all numerical features\n",
    "skewed_feats = total_features[numeric_feats].apply(lambda x: skew(x.dropna())).sort_values(ascending=False)\n",
    "skewness = pd.DataFrame({'Skew' :skewed_feats})\n",
    "skewness = skewness[abs(skewness) > 0.75]\n",
    "\n",
    "\n",
    "skewed_features = skewness.index\n",
    "lam = 0.15\n",
    "\n",
    "for feat in skewed_features:\n",
    "    total_features[feat] = boxcox1p(total_features[feat], lam)\n",
    "\n",
    "numeric_feats = total_features.dtypes[total_features.dtypes != \"object\"].index\n",
    "\n",
    "skewed_feats = total_features[numeric_feats].apply(lambda x: skew(x.dropna())).sort_values(ascending=False)\n",
    "print(\"\\nSkew in numerical features: \\n\")\n",
    "skewness = pd.DataFrame({'Skew' :skewed_feats})\n",
    "\n",
    "final_features = pd.get_dummies(total_features).reset_index(drop=True)\n",
    "final_features.shape"
   ],
   "metadata": {
    "collapsed": false,
    "ExecuteTime": {
     "start_time": "2023-04-23T22:07:58.743220Z",
     "end_time": "2023-04-23T22:07:58.846885Z"
    }
   }
  },
  {
   "cell_type": "code",
   "execution_count": 137,
   "outputs": [
    {
     "data": {
      "text/plain": "             Id  MSSubClass MSZoning  LotFrontage    LotArea     Alley  \\\n0      0.730463    2.885846       RL     5.831328  19.212182  0.730463   \n1      1.194318    2.055642       RL     6.221214  19.712205  0.730463   \n2      1.540963    2.885846       RL     5.914940  20.347241  0.730463   \n3      1.820334    3.011340       RL     5.684507  19.691553  0.730463   \n4      2.055642    2.885846       RL     6.314735  21.325160  0.730463   \n...         ...         ...      ...          ...        ...       ...   \n2907  15.394418    1.194318       RM     3.932510  14.081426  0.730463   \n2908  15.395553    1.194318       RM     3.932510  14.013314  0.730463   \n2909  15.396687    2.055642       RL     7.620056  22.782058  0.730463   \n2910  15.397821    3.340760       RL     5.744420  20.046557  0.730463   \n2911  15.398955    2.885846       RL     6.073289  19.723319  0.730463   \n\n      LotShape LandContour LotConfig  LandSlope  ... YrBltAndRemod    TotalSF  \\\n0     1.540963         Lvl    Inside   0.000000  ...     16.471644  14.976591   \n1     1.540963         Lvl       FR2   0.000000  ...     16.424600  14.923100   \n2     0.000000         Lvl    Inside   0.000000  ...     16.469044  15.149678   \n3     0.000000         Lvl    Corner   0.000000  ...     16.365466  14.857121   \n4     0.000000         Lvl       FR2   0.000000  ...     16.466443  15.852312   \n...        ...         ...       ...        ...  ...           ...        ...   \n2907  1.540963         Lvl    Inside   0.000000  ...     16.414072  13.567978   \n2908  1.540963         Lvl    Inside   0.000000  ...     16.414072  13.567978   \n2909  1.540963         Lvl    Inside   0.000000  ...     16.428104  14.824355   \n2910  1.540963         Lvl    Inside   0.000000  ...     16.452543  13.993617   \n2911  1.540963         Lvl    Inside   0.730463  ...     16.455153  15.485273   \n\n     Total_sqr_footage Total_Bathrooms Total_porch_sf  haspool  has2ndfloor  \\\n0            14.781997        1.687259       5.714669      0.0     0.730463   \n1            14.540127        1.378202       9.010206      0.0     0.000000   \n2            14.585277        1.687259       5.053371      0.0     0.730463   \n3            14.076603        1.194318       9.080098      0.0     0.730463   \n4            15.323415        1.687259       8.831514      0.0     0.730463   \n...                ...             ...            ...      ...          ...   \n2907         12.374860        0.982247       0.000000      0.0     0.730463   \n2908         12.976752        0.982247       4.137711      0.0     0.730463   \n2909         14.824355        1.194318      10.137338      0.0     0.000000   \n2910         12.894732        0.982247       6.881187      0.0     0.000000   \n2911         15.212032        1.378202       8.492259      0.0     0.730463   \n\n      hasgarage   hasbsmt hasfireplace  \n0      0.730463  0.730463     0.000000  \n1      0.730463  0.730463     0.730463  \n2      0.730463  0.730463     0.730463  \n3      0.730463  0.730463     0.730463  \n4      0.730463  0.730463     0.730463  \n...         ...       ...          ...  \n2907   0.000000  0.730463     0.000000  \n2908   0.730463  0.730463     0.000000  \n2909   0.730463  0.730463     0.730463  \n2910   0.000000  0.730463     0.000000  \n2911   0.730463  0.730463     0.730463  \n\n[2912 rows x 87 columns]",
      "text/html": "<div>\n<style scoped>\n    .dataframe tbody tr th:only-of-type {\n        vertical-align: middle;\n    }\n\n    .dataframe tbody tr th {\n        vertical-align: top;\n    }\n\n    .dataframe thead th {\n        text-align: right;\n    }\n</style>\n<table border=\"1\" class=\"dataframe\">\n  <thead>\n    <tr style=\"text-align: right;\">\n      <th></th>\n      <th>Id</th>\n      <th>MSSubClass</th>\n      <th>MSZoning</th>\n      <th>LotFrontage</th>\n      <th>LotArea</th>\n      <th>Alley</th>\n      <th>LotShape</th>\n      <th>LandContour</th>\n      <th>LotConfig</th>\n      <th>LandSlope</th>\n      <th>...</th>\n      <th>YrBltAndRemod</th>\n      <th>TotalSF</th>\n      <th>Total_sqr_footage</th>\n      <th>Total_Bathrooms</th>\n      <th>Total_porch_sf</th>\n      <th>haspool</th>\n      <th>has2ndfloor</th>\n      <th>hasgarage</th>\n      <th>hasbsmt</th>\n      <th>hasfireplace</th>\n    </tr>\n  </thead>\n  <tbody>\n    <tr>\n      <th>0</th>\n      <td>0.730463</td>\n      <td>2.885846</td>\n      <td>RL</td>\n      <td>5.831328</td>\n      <td>19.212182</td>\n      <td>0.730463</td>\n      <td>1.540963</td>\n      <td>Lvl</td>\n      <td>Inside</td>\n      <td>0.000000</td>\n      <td>...</td>\n      <td>16.471644</td>\n      <td>14.976591</td>\n      <td>14.781997</td>\n      <td>1.687259</td>\n      <td>5.714669</td>\n      <td>0.0</td>\n      <td>0.730463</td>\n      <td>0.730463</td>\n      <td>0.730463</td>\n      <td>0.000000</td>\n    </tr>\n    <tr>\n      <th>1</th>\n      <td>1.194318</td>\n      <td>2.055642</td>\n      <td>RL</td>\n      <td>6.221214</td>\n      <td>19.712205</td>\n      <td>0.730463</td>\n      <td>1.540963</td>\n      <td>Lvl</td>\n      <td>FR2</td>\n      <td>0.000000</td>\n      <td>...</td>\n      <td>16.424600</td>\n      <td>14.923100</td>\n      <td>14.540127</td>\n      <td>1.378202</td>\n      <td>9.010206</td>\n      <td>0.0</td>\n      <td>0.000000</td>\n      <td>0.730463</td>\n      <td>0.730463</td>\n      <td>0.730463</td>\n    </tr>\n    <tr>\n      <th>2</th>\n      <td>1.540963</td>\n      <td>2.885846</td>\n      <td>RL</td>\n      <td>5.914940</td>\n      <td>20.347241</td>\n      <td>0.730463</td>\n      <td>0.000000</td>\n      <td>Lvl</td>\n      <td>Inside</td>\n      <td>0.000000</td>\n      <td>...</td>\n      <td>16.469044</td>\n      <td>15.149678</td>\n      <td>14.585277</td>\n      <td>1.687259</td>\n      <td>5.053371</td>\n      <td>0.0</td>\n      <td>0.730463</td>\n      <td>0.730463</td>\n      <td>0.730463</td>\n      <td>0.730463</td>\n    </tr>\n    <tr>\n      <th>3</th>\n      <td>1.820334</td>\n      <td>3.011340</td>\n      <td>RL</td>\n      <td>5.684507</td>\n      <td>19.691553</td>\n      <td>0.730463</td>\n      <td>0.000000</td>\n      <td>Lvl</td>\n      <td>Corner</td>\n      <td>0.000000</td>\n      <td>...</td>\n      <td>16.365466</td>\n      <td>14.857121</td>\n      <td>14.076603</td>\n      <td>1.194318</td>\n      <td>9.080098</td>\n      <td>0.0</td>\n      <td>0.730463</td>\n      <td>0.730463</td>\n      <td>0.730463</td>\n      <td>0.730463</td>\n    </tr>\n    <tr>\n      <th>4</th>\n      <td>2.055642</td>\n      <td>2.885846</td>\n      <td>RL</td>\n      <td>6.314735</td>\n      <td>21.325160</td>\n      <td>0.730463</td>\n      <td>0.000000</td>\n      <td>Lvl</td>\n      <td>FR2</td>\n      <td>0.000000</td>\n      <td>...</td>\n      <td>16.466443</td>\n      <td>15.852312</td>\n      <td>15.323415</td>\n      <td>1.687259</td>\n      <td>8.831514</td>\n      <td>0.0</td>\n      <td>0.730463</td>\n      <td>0.730463</td>\n      <td>0.730463</td>\n      <td>0.730463</td>\n    </tr>\n    <tr>\n      <th>...</th>\n      <td>...</td>\n      <td>...</td>\n      <td>...</td>\n      <td>...</td>\n      <td>...</td>\n      <td>...</td>\n      <td>...</td>\n      <td>...</td>\n      <td>...</td>\n      <td>...</td>\n      <td>...</td>\n      <td>...</td>\n      <td>...</td>\n      <td>...</td>\n      <td>...</td>\n      <td>...</td>\n      <td>...</td>\n      <td>...</td>\n      <td>...</td>\n      <td>...</td>\n      <td>...</td>\n    </tr>\n    <tr>\n      <th>2907</th>\n      <td>15.394418</td>\n      <td>1.194318</td>\n      <td>RM</td>\n      <td>3.932510</td>\n      <td>14.081426</td>\n      <td>0.730463</td>\n      <td>1.540963</td>\n      <td>Lvl</td>\n      <td>Inside</td>\n      <td>0.000000</td>\n      <td>...</td>\n      <td>16.414072</td>\n      <td>13.567978</td>\n      <td>12.374860</td>\n      <td>0.982247</td>\n      <td>0.000000</td>\n      <td>0.0</td>\n      <td>0.730463</td>\n      <td>0.000000</td>\n      <td>0.730463</td>\n      <td>0.000000</td>\n    </tr>\n    <tr>\n      <th>2908</th>\n      <td>15.395553</td>\n      <td>1.194318</td>\n      <td>RM</td>\n      <td>3.932510</td>\n      <td>14.013314</td>\n      <td>0.730463</td>\n      <td>1.540963</td>\n      <td>Lvl</td>\n      <td>Inside</td>\n      <td>0.000000</td>\n      <td>...</td>\n      <td>16.414072</td>\n      <td>13.567978</td>\n      <td>12.976752</td>\n      <td>0.982247</td>\n      <td>4.137711</td>\n      <td>0.0</td>\n      <td>0.730463</td>\n      <td>0.730463</td>\n      <td>0.730463</td>\n      <td>0.000000</td>\n    </tr>\n    <tr>\n      <th>2909</th>\n      <td>15.396687</td>\n      <td>2.055642</td>\n      <td>RL</td>\n      <td>7.620056</td>\n      <td>22.782058</td>\n      <td>0.730463</td>\n      <td>1.540963</td>\n      <td>Lvl</td>\n      <td>Inside</td>\n      <td>0.000000</td>\n      <td>...</td>\n      <td>16.428104</td>\n      <td>14.824355</td>\n      <td>14.824355</td>\n      <td>1.194318</td>\n      <td>10.137338</td>\n      <td>0.0</td>\n      <td>0.000000</td>\n      <td>0.730463</td>\n      <td>0.730463</td>\n      <td>0.730463</td>\n    </tr>\n    <tr>\n      <th>2910</th>\n      <td>15.397821</td>\n      <td>3.340760</td>\n      <td>RL</td>\n      <td>5.744420</td>\n      <td>20.046557</td>\n      <td>0.730463</td>\n      <td>1.540963</td>\n      <td>Lvl</td>\n      <td>Inside</td>\n      <td>0.000000</td>\n      <td>...</td>\n      <td>16.452543</td>\n      <td>13.993617</td>\n      <td>12.894732</td>\n      <td>0.982247</td>\n      <td>6.881187</td>\n      <td>0.0</td>\n      <td>0.000000</td>\n      <td>0.000000</td>\n      <td>0.730463</td>\n      <td>0.000000</td>\n    </tr>\n    <tr>\n      <th>2911</th>\n      <td>15.398955</td>\n      <td>2.885846</td>\n      <td>RL</td>\n      <td>6.073289</td>\n      <td>19.723319</td>\n      <td>0.730463</td>\n      <td>1.540963</td>\n      <td>Lvl</td>\n      <td>Inside</td>\n      <td>0.730463</td>\n      <td>...</td>\n      <td>16.455153</td>\n      <td>15.485273</td>\n      <td>15.212032</td>\n      <td>1.378202</td>\n      <td>8.492259</td>\n      <td>0.0</td>\n      <td>0.730463</td>\n      <td>0.730463</td>\n      <td>0.730463</td>\n      <td>0.730463</td>\n    </tr>\n  </tbody>\n</table>\n<p>2912 rows × 87 columns</p>\n</div>"
     },
     "execution_count": 137,
     "metadata": {},
     "output_type": "execute_result"
    }
   ],
   "source": [
    "total_features"
   ],
   "metadata": {
    "collapsed": false,
    "ExecuteTime": {
     "start_time": "2023-04-23T22:07:58.847381Z",
     "end_time": "2023-04-23T22:07:58.889540Z"
    }
   }
  },
  {
   "cell_type": "code",
   "execution_count": 53,
   "outputs": [],
   "source": [
    "train = train_df\n",
    "y_train = np.log1p(train.pop('SalePrice'))\n",
    "x_train = train"
   ],
   "metadata": {
    "collapsed": false,
    "ExecuteTime": {
     "start_time": "2023-04-23T20:27:40.391382Z",
     "end_time": "2023-04-23T20:27:40.401798Z"
    }
   }
  },
  {
   "cell_type": "code",
   "execution_count": 54,
   "outputs": [
    {
     "data": {
      "text/plain": "1.0252347246350564"
     },
     "execution_count": 54,
     "metadata": {},
     "output_type": "execute_result"
    }
   ],
   "source": [
    "# Lasso with 5 fold cross-validation\n",
    "model = LassoCV(cv=5, random_state=1, max_iter=10000)\n",
    "\n",
    "# Fit model\n",
    "model.fit(x_train, y_train)\n",
    "LassoCV(cv=5, max_iter=10000, random_state=1)\n",
    "model.alpha_"
   ],
   "metadata": {
    "collapsed": false,
    "ExecuteTime": {
     "start_time": "2023-04-23T20:27:41.831325Z",
     "end_time": "2023-04-23T20:27:41.892332Z"
    }
   }
  },
  {
   "cell_type": "code",
   "execution_count": 44,
   "outputs": [
    {
     "name": "stdout",
     "output_type": "stream",
     "text": [
      "{'alpha': 0.0001, 'l1_ratio': 0.0, 'max_iter': 1, 'random_state': 1}\n"
     ]
    }
   ],
   "source": [
    "# Use grid search to tune the parameters:\n",
    "parametersGrid = {\"max_iter\": [1, 5, 10],\n",
    "                  \"alpha\": [0.0001, 0.001, 0.01, 0.1, 1, 10, 100],\n",
    "                  \"l1_ratio\": np.arange(0.0, 1.0, 0.1),\n",
    "                  \"random_state\": np.arange(1, 10, 1)}\n",
    "\n",
    "eNet = ElasticNet()\n",
    "grid = GridSearchCV(eNet, parametersGrid, scoring='accuracy', cv=10)\n",
    "grid.fit(x_train, y_train)\n",
    "print(grid.best_params_)"
   ],
   "metadata": {
    "collapsed": false,
    "ExecuteTime": {
     "start_time": "2023-04-23T20:01:00.279874Z",
     "end_time": "2023-04-23T20:02:19.247630Z"
    }
   }
  },
  {
   "cell_type": "code",
   "execution_count": 73,
   "outputs": [
    {
     "data": {
      "text/plain": "<IPython.core.display.HTML object>",
      "text/html": ""
     },
     "metadata": {},
     "output_type": "display_data"
    },
    {
     "name": "stderr",
     "output_type": "stream",
     "text": [
      "2023-04-23 21:05:03,891\tWARNING tune.py:146 -- Stop signal received (e.g. via SIGINT/Ctrl+C), ending Ray Tune run. This will try to checkpoint the experiment state one last time. Press CTRL+C (or send SIGINT/SIGKILL/SIGTERM) to skip. \n",
      "2023-04-23 21:05:06,190\tERROR tune.py:794 -- Trials did not complete: [_Trainable_c58c4_00030, _Trainable_c58c4_00031, _Trainable_c58c4_00032, _Trainable_c58c4_00033, _Trainable_c58c4_00034, _Trainable_c58c4_00035, _Trainable_c58c4_00037, _Trainable_c58c4_00038, _Trainable_c58c4_00039, _Trainable_c58c4_00040, _Trainable_c58c4_00041, _Trainable_c58c4_00042, _Trainable_c58c4_00043, _Trainable_c58c4_00044, _Trainable_c58c4_00045, _Trainable_c58c4_00046, _Trainable_c58c4_00047]\n",
      "2023-04-23 21:05:06,191\tWARNING tune.py:804 -- Experiment has been interrupted, but the most recent state was saved. You can continue running this experiment by passing `resume=True` to `tune.run()`\n"
     ]
    },
    {
     "name": "stdout",
     "output_type": "stream",
     "text": [
      "{'n_estimators': 2000, 'learning_rate': 0.1, 'max_depth': 1}\n",
      "0.9051947569819359\n"
     ]
    }
   ],
   "source": [
    "#    'n_estimators': np.arange(100, 5000, 100),\n",
    "gbr = GradientBoostingRegressor()\n",
    "\n",
    "# Define the parameter grid\n",
    "parameters = {\n",
    "    'n_estimators': np.arange(1000, 5000, 1000),\n",
    "    'learning_rate': [0.1, 0.05, 0.01],\n",
    "    'max_depth': np.arange(1, 5, 1)\n",
    "}\n",
    "\n",
    "# Create a GridSearchCV object\n",
    "grid_search = TuneGridSearchCV(gbr, parameters)\n",
    "\n",
    "# Fit the GridSearchCV object to the data\n",
    "grid_search.fit(x_train, y_train)\n",
    "\n",
    "# Print the best parameters and the best score\n",
    "print(grid_search.best_params_)\n",
    "print(grid_search.best_score_)"
   ],
   "metadata": {
    "collapsed": false,
    "ExecuteTime": {
     "start_time": "2023-04-23T21:03:06.353634Z",
     "end_time": "2023-04-23T21:05:09.883569Z"
    }
   }
  },
  {
   "cell_type": "code",
   "execution_count": null,
   "outputs": [],
   "source": [
    "# Create a Lasso regression object\n",
    "lasso = Lasso()\n",
    "\n",
    "# Define the parameter grid\n",
    "param_grid = {\n",
    "    'alpha': np.arange(0.0001, 5, 0.0004)\n",
    "}\n",
    "\n",
    "# Create a GridSearchCV object\n",
    "grid_search = GridSearchCV(estimator=lasso, param_grid=param_grid)\n",
    "\n",
    "# Fit the GridSearchCV object to the data\n",
    "grid_search.fit(X, y)\n",
    "\n",
    "# Print the best parameters and the best score\n",
    "print(grid_search.best_params_)\n",
    "print(grid_search.best_score_)"
   ],
   "metadata": {
    "collapsed": false
   }
  },
  {
   "cell_type": "code",
   "execution_count": 75,
   "outputs": [
    {
     "name": "stdout",
     "output_type": "stream",
     "text": [
      "{'alpha': 2.9000000000000004}\n",
      "0.8564960534094646\n"
     ]
    }
   ],
   "source": [
    "ridge = Ridge()\n",
    "param_grid = {\n",
    "    'alpha': np.arange(0.1, 3, 0.1)\n",
    "}\n",
    "grid_search = GridSearchCV(estimator=ridge, param_grid=param_grid)\n",
    "grid_search.fit(x_train, y_train)\n",
    "print(grid_search.best_params_)\n",
    "print(grid_search.best_score_)"
   ],
   "metadata": {
    "collapsed": false,
    "ExecuteTime": {
     "start_time": "2023-04-23T21:08:18.178683Z",
     "end_time": "2023-04-23T21:08:18.753545Z"
    }
   }
  },
  {
   "cell_type": "code",
   "execution_count": 82,
   "outputs": [],
   "source": [
    "lasso = make_pipeline(RobustScaler(), Lasso(alpha =0.0001892547, random_state=1))\n",
    "ENet = make_pipeline(RobustScaler(), ElasticNet(alpha=0.003752674, l1_ratio=0, random_state=1))\n",
    "ridge = Ridge(2.9000000000000004)\n",
    "GBoost = GradientBoostingRegressor(n_estimators=3000, learning_rate=0.1,\n",
    "                                   max_depth=4, max_features='sqrt',\n",
    "                                   min_samples_leaf=15, min_samples_split=10,\n",
    "                                   loss='huber', random_state =5)"
   ],
   "metadata": {
    "collapsed": false,
    "ExecuteTime": {
     "start_time": "2023-04-23T21:10:21.592521Z",
     "end_time": "2023-04-23T21:10:21.604922Z"
    }
   }
  },
  {
   "cell_type": "code",
   "execution_count": 83,
   "outputs": [
    {
     "name": "stdout",
     "output_type": "stream",
     "text": [
      "Lasso score: 0.1483 (0.0269)\n",
      "\n",
      "Ridge score: 0.1485 (0.0274)\n",
      "\n",
      "ElasticNet score: 0.1483 (0.0271)\n",
      "\n",
      "Gradient Boosting score: 0.1271 (0.0135)\n",
      "\n",
      " Averaged base models score: 0.1373 (0.0231)\n"
     ]
    }
   ],
   "source": [
    "score = rmsle_cv(lasso)\n",
    "print(\"Lasso score: {:.4f} ({:.4f})\\n\".format(score.mean(), score.std()))\n",
    "score = rmsle_cv(ridge)\n",
    "print(\"Ridge score: {:.4f} ({:.4f})\\n\".format(score.mean(), score.std()))\n",
    "score = rmsle_cv(ENet)\n",
    "print(\"ElasticNet score: {:.4f} ({:.4f})\\n\".format(score.mean(), score.std()))\n",
    "score = rmsle_cv(GBoost)\n",
    "print(\"Gradient Boosting score: {:.4f} ({:.4f})\\n\".format(score.mean(), score.std()))\n",
    "\n",
    "averaged_models = AveragingModels(models = (ENet, GBoost, ridge, lasso))\n",
    "\n",
    "score = rmsle_cv(averaged_models)\n",
    "print(\" Averaged base models score: {:.4f} ({:.4f})\\n\".format(score.mean(), score.std()))"
   ],
   "metadata": {
    "collapsed": false,
    "ExecuteTime": {
     "start_time": "2023-04-23T21:10:24.569577Z",
     "end_time": "2023-04-23T21:11:42.913363Z"
    }
   }
  },
  {
   "cell_type": "code",
   "execution_count": 15,
   "outputs": [
    {
     "name": "stdout",
     "output_type": "stream",
     "text": [
      " Averaged base models score: 0.1374 (0.0241)\n"
     ]
    }
   ],
   "source": [
    "averaged_models = AveragingModels(models = (ENet, GBoost, ridge, lasso))\n",
    "\n",
    "score = rmsle_cv(averaged_models)\n",
    "print(\" Averaged base models score: {:.4f} ({:.4f})\\n\".format(score.mean(), score.std()))"
   ],
   "metadata": {
    "collapsed": false,
    "ExecuteTime": {
     "start_time": "2023-04-23T19:22:49.652946Z",
     "end_time": "2023-04-23T19:23:29.487249Z"
    }
   }
  },
  {
   "cell_type": "code",
   "execution_count": 80,
   "outputs": [
    {
     "name": "stdout",
     "output_type": "stream",
     "text": [
      "Ridge score: 0.1485 (0.0274)\n"
     ]
    }
   ],
   "source": [
    "ridge = Ridge(2.9000000000000004)\n",
    "score = rmsle_cv(ridge)\n",
    "print(\"Ridge score: {:.4f} ({:.4f})\\n\".format(score.mean(), score.std()))"
   ],
   "metadata": {
    "collapsed": false,
    "ExecuteTime": {
     "start_time": "2023-04-23T21:09:31.100060Z",
     "end_time": "2023-04-23T21:09:31.126347Z"
    }
   }
  },
  {
   "cell_type": "code",
   "execution_count": null,
   "outputs": [],
   "source": [
    "lasso = make_pipeline(RobustScaler(), Lasso(alpha =0.0001892547, random_state=1))\n",
    "ENet = make_pipeline(RobustScaler(), ElasticNet(alpha=0.003752674, l1_ratio=0, random_state=1))\n",
    "ridge = Ridge(2.9000000000000004)\n",
    "GBoost = GradientBoostingRegressor(n_estimators=3000, learning_rate=0.1,\n",
    "                                   max_depth=4, max_features='sqrt',\n",
    "                                   min_samples_leaf=15, min_samples_split=10,\n",
    "                                   loss='huber', random_state =5)"
   ],
   "metadata": {
    "collapsed": false
   }
  }
 ],
 "metadata": {
  "kernelspec": {
   "display_name": "Python 3",
   "language": "python",
   "name": "python3"
  },
  "language_info": {
   "codemirror_mode": {
    "name": "ipython",
    "version": 2
   },
   "file_extension": ".py",
   "mimetype": "text/x-python",
   "name": "python",
   "nbconvert_exporter": "python",
   "pygments_lexer": "ipython2",
   "version": "2.7.6"
  }
 },
 "nbformat": 4,
 "nbformat_minor": 0
}
