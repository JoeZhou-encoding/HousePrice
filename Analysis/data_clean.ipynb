{
 "cells": [
  {
   "cell_type": "code",
   "execution_count": 1,
   "metadata": {
    "ExecuteTime": {
     "end_time": "2023-04-23T22:11:59.715754Z",
     "start_time": "2023-04-23T22:11:58.033815Z"
    },
    "collapsed": true
   },
   "outputs": [],
   "source": [
    "import pandas as pd\n",
    "import numpy as np\n",
    "import warnings\n",
    "warnings.filterwarnings(\"ignore\")\n",
    "warnings.filterwarnings(\"ignore\", category=DeprecationWarning)\n",
    "from sklearn.preprocessing import LabelEncoder\n",
    "from scipy.stats import skew #for some statistics\n",
    "%matplotlib inline"
   ]
  },
  {
   "cell_type": "code",
   "execution_count": 2,
   "metadata": {
    "ExecuteTime": {
     "end_time": "2023-04-23T22:15:19.737156Z",
     "start_time": "2023-04-23T22:15:19.698964Z"
    },
    "collapsed": false
   },
   "outputs": [],
   "source": [
    "test_df = pd.read_csv('test.csv' )\n",
    "train_df = pd.read_csv('train.csv' )\n",
    "test_df_Id = test_df['Id'] "
   ]
  },
  {
   "cell_type": "code",
   "execution_count": 3,
   "metadata": {
    "ExecuteTime": {
     "end_time": "2023-04-23T22:15:20.937436Z",
     "start_time": "2023-04-23T22:15:20.914119Z"
    },
    "collapsed": false
   },
   "outputs": [],
   "source": [
    "train_df = train_df[train_df.GrLivArea < 4500]\n",
    "train_df.reset_index(drop=True, inplace=True)\n",
    "train_df[\"SalePrice\"] = np.log1p(train_df[\"SalePrice\"])\n",
    "y = train_df['SalePrice'].reset_index(drop=True)\n",
    "\n",
    "data = pd.concat([train_df['SalePrice'], train_df['OverallQual']], axis=1)\n",
    "\n",
    "upperlimit = np.percentile(train_df.SalePrice.values, 99.5)\n",
    "train_df['SalePrice'].loc[train_df['SalePrice']>upperlimit] = upperlimit\n",
    "\n",
    "train_df = train_df.drop(train_df[(train_df['GarageCars']>3)\n",
    "                                  & (train_df['SalePrice']<350000)].index).reset_index(drop=True)"
   ]
  },
  {
   "cell_type": "code",
   "execution_count": 4,
   "metadata": {
    "ExecuteTime": {
     "end_time": "2023-04-23T22:23:25.683108Z",
     "start_time": "2023-04-23T22:23:25.666244Z"
    },
    "collapsed": false
   },
   "outputs": [],
   "source": [
    "train_features = train_df.drop(['SalePrice'], axis=1)\n",
    "test_features = test_df\n",
    "total_features = pd.concat([train_features, test_features]).reset_index(drop=True)"
   ]
  },
  {
   "cell_type": "code",
   "execution_count": 5,
   "metadata": {
    "ExecuteTime": {
     "end_time": "2023-04-23T22:24:27.880266Z",
     "start_time": "2023-04-23T22:24:27.859434Z"
    },
    "collapsed": false
   },
   "outputs": [],
   "source": [
    "# Since these column are actually a category , using a numerical number will lead the model to assume\n",
    "# that it is numerical , so we convert to string .\n",
    "total_features['MSSubClass'] = total_features['MSSubClass'].apply(str)\n",
    "total_features['YrSold'] = total_features['YrSold'].astype(str)\n",
    "total_features['MoSold'] = total_features['MoSold'].astype(str)\n",
    "\n",
    "\n",
    "\n",
    "## Filling these columns With most suitable value for these columns\n",
    "total_features['Functional'] = total_features['Functional'].fillna('Typ')\n",
    "total_features['Electrical'] = total_features['Electrical'].fillna(\"SBrkr\")\n",
    "total_features['KitchenQual'] = total_features['KitchenQual'].fillna(\"TA\")\n",
    "total_features[\"PoolQC\"] = total_features[\"PoolQC\"].fillna(\"None\")\n",
    "\n",
    "\n",
    "\n",
    "## Filling these with MODE , i.e. , the most frequent value in these columns .\n",
    "total_features['Exterior1st'] = total_features['Exterior1st'].fillna(total_features['Exterior1st'].mode()[0])\n",
    "total_features['Exterior2nd'] = total_features['Exterior2nd'].fillna(total_features['Exterior2nd'].mode()[0])\n",
    "total_features['SaleType'] = total_features['SaleType'].fillna(total_features['SaleType'].mode()[0])"
   ]
  },
  {
   "cell_type": "code",
   "execution_count": 6,
   "metadata": {
    "ExecuteTime": {
     "end_time": "2023-04-23T22:24:31.072856Z",
     "start_time": "2023-04-23T22:24:31.045571Z"
    },
    "collapsed": false
   },
   "outputs": [],
   "source": [
    "## Missing data in GarageYrBit most probably means missing Garage , so replace NaN with zero .\n",
    "\n",
    "for col in ('GarageYrBlt', 'GarageArea', 'GarageCars'):\n",
    "    total_features[col] = total_features[col].fillna(0)\n",
    "\n",
    "for col in ['GarageType', 'GarageFinish', 'GarageQual', 'GarageCond']:\n",
    "    total_features[col] = total_features[col].fillna('None')\n",
    "\n",
    "\n",
    "## Same with basement features\n",
    "\n",
    "for col in ('BsmtQual', 'BsmtCond', 'BsmtExposure', 'BsmtFinType1', 'BsmtFinType2'):\n",
    "    total_features[col] = total_features[col].fillna('None')"
   ]
  },
  {
   "cell_type": "code",
   "execution_count": 15,
   "metadata": {
    "ExecuteTime": {
     "end_time": "2023-04-23T22:24:31.937530Z",
     "start_time": "2023-04-23T22:24:31.878503Z"
    },
    "collapsed": false
   },
   "outputs": [
    {
     "name": "stdout",
     "output_type": "stream",
     "text": [
      "[['MSSubClass', 'MSZoning', 'Street', 'Alley', 'LotShape', 'LandContour', 'Utilities', 'LotConfig', 'LandSlope', 'Neighborhood', 'Condition1', 'Condition2', 'BldgType', 'HouseStyle', 'RoofStyle', 'RoofMatl', 'Exterior1st', 'Exterior2nd', 'MasVnrType', 'ExterQual', 'ExterCond', 'Foundation', 'BsmtQual', 'BsmtCond', 'BsmtExposure', 'BsmtFinType1', 'BsmtFinType2', 'Heating', 'HeatingQC', 'CentralAir', 'Electrical', 'KitchenQual', 'Functional', 'FireplaceQu', 'GarageType', 'GarageFinish', 'GarageQual', 'GarageCond', 'PavedDrive', 'PoolQC', 'Fence', 'MiscFeature', 'MoSold', 'YrSold', 'SaleType', 'SaleCondition']]\n"
     ]
    }
   ],
   "source": [
    "total_features['MSZoning'] = total_features.groupby('MSSubClass')['MSZoning'].transform(lambda x: x.fillna(x.mode()[0]))\n",
    "objects = []\n",
    "for i in total_features.columns:\n",
    "    if total_features[i].dtype == object:\n",
    "        objects.append(i)\n",
    "total_features.update(total_features[objects].fillna('None'))"
   ]
  },
  {
   "cell_type": "code",
   "execution_count": 16,
   "metadata": {
    "ExecuteTime": {
     "end_time": "2023-04-23T22:24:40.257143Z",
     "start_time": "2023-04-23T22:24:40.218951Z"
    },
    "collapsed": false
   },
   "outputs": [
    {
     "data": {
      "text/plain": [
       "['LotFrontage',\n",
       " 'LotArea',\n",
       " 'OverallQual',\n",
       " 'OverallCond',\n",
       " 'YearBuilt',\n",
       " 'YearRemodAdd',\n",
       " 'MasVnrArea',\n",
       " 'BsmtFinSF1',\n",
       " 'BsmtFinSF2']"
      ]
     },
     "execution_count": 16,
     "metadata": {},
     "output_type": "execute_result"
    }
   ],
   "source": [
    "# We are still filling up missing values\n",
    "total_features['LotFrontage'] = total_features.groupby('Neighborhood')['LotFrontage'].transform(lambda x: x.fillna(x.median()))\n",
    "\n",
    "numeric_dtypes = ['int16', 'int32', 'int64', 'float16', 'float32', 'float64']\n",
    "numerics = []\n",
    "for i in total_features.columns:\n",
    "    if total_features[i].dtype in numeric_dtypes:\n",
    "        numerics.append(i)\n",
    "total_features.update(total_features[numerics].fillna(0))"
   ]
  },
  {
   "cell_type": "code",
   "execution_count": 17,
   "metadata": {
    "ExecuteTime": {
     "end_time": "2023-04-23T22:24:49.972059Z",
     "start_time": "2023-04-23T22:24:49.950231Z"
    },
    "collapsed": false
   },
   "outputs": [],
   "source": [
    "#MSSubClass=The building class\n",
    "total_features['MSSubClass'] = total_features['MSSubClass'].apply(str)\n",
    "\n",
    "\n",
    "#Changing OverallCond into a categorical variable\n",
    "total_features['OverallCond'] = total_features['OverallCond'].astype(str)\n",
    "\n",
    "\n",
    "#Year and month sold are transformed into categorical features.\n",
    "total_features['YrSold'] = total_features['YrSold'].astype(str)\n",
    "total_features['MoSold'] = total_features['MoSold'].astype(str)"
   ]
  },
  {
   "cell_type": "code",
   "execution_count": 18,
   "metadata": {
    "ExecuteTime": {
     "end_time": "2023-04-23T22:25:01.459947Z",
     "start_time": "2023-04-23T22:25:01.377609Z"
    },
    "collapsed": false
   },
   "outputs": [
    {
     "name": "stdout",
     "output_type": "stream",
     "text": [
      "Shape all_data: (2912, 77)\n"
     ]
    }
   ],
   "source": [
    "total_features = total_features.drop(['Utilities', 'Street', 'PoolQC',], axis=1)\n",
    "cols = ('FireplaceQu', 'BsmtQual', 'BsmtCond', 'GarageQual', 'GarageCond',\n",
    "        'ExterQual', 'ExterCond','HeatingQC', 'KitchenQual', 'BsmtFinType1',\n",
    "        'BsmtFinType2', 'Functional', 'Fence', 'BsmtExposure', 'GarageFinish', 'LandSlope',\n",
    "        'LotShape', 'PavedDrive',  'Alley', 'CentralAir', 'MSSubClass', 'OverallCond',\n",
    "        'YrSold', 'MoSold')\n",
    "# process columns, apply LabelEncoder to categorical features\n",
    "for c in cols:\n",
    "    lbl = LabelEncoder()\n",
    "    lbl.fit(list(total_features[c].values))\n",
    "    total_features[c] = lbl.transform(list(total_features[c].values))"
   ]
  },
  {
   "cell_type": "code",
   "execution_count": 19,
   "metadata": {
    "ExecuteTime": {
     "end_time": "2023-04-23T22:25:10.702989Z",
     "start_time": "2023-04-23T22:25:10.680175Z"
    },
    "collapsed": false
   },
   "outputs": [
    {
     "data": {
      "text/plain": [
       "(2912, 82)"
      ]
     },
     "execution_count": 19,
     "metadata": {},
     "output_type": "execute_result"
    }
   ],
   "source": [
    "# Adding new features . Make sure that you understand this.\n",
    "\n",
    "total_features['YrBltAndRemod']=total_features['YearBuilt']+total_features['YearRemodAdd']\n",
    "total_features['TotalSF']=total_features['TotalBsmtSF'] + total_features['1stFlrSF'] + total_features['2ndFlrSF']\n",
    "\n",
    "total_features['Total_sqr_footage'] = (total_features['BsmtFinSF1'] + total_features['BsmtFinSF2'] +\n",
    "                                       total_features['1stFlrSF'] + total_features['2ndFlrSF'])\n",
    "\n",
    "total_features['Total_Bathrooms'] = (total_features['FullBath'] + (0.5 * total_features['HalfBath']) +\n",
    "                                     total_features['BsmtFullBath'] + (0.5 * total_features['BsmtHalfBath']))\n",
    "\n",
    "total_features['Total_porch_sf'] = (total_features['OpenPorchSF'] + total_features['3SsnPorch'] +\n",
    "                                    total_features['EnclosedPorch'] + total_features['ScreenPorch'] +\n",
    "                                    total_features['WoodDeckSF'])\n"
   ]
  },
  {
   "cell_type": "code",
   "execution_count": 20,
   "metadata": {
    "ExecuteTime": {
     "end_time": "2023-04-23T22:25:20.586883Z",
     "start_time": "2023-04-23T22:25:20.544229Z"
    },
    "collapsed": false
   },
   "outputs": [
    {
     "data": {
      "text/html": [
       "<div>\n",
       "<style scoped>\n",
       "    .dataframe tbody tr th:only-of-type {\n",
       "        vertical-align: middle;\n",
       "    }\n",
       "\n",
       "    .dataframe tbody tr th {\n",
       "        vertical-align: top;\n",
       "    }\n",
       "\n",
       "    .dataframe thead th {\n",
       "        text-align: right;\n",
       "    }\n",
       "</style>\n",
       "<table border=\"1\" class=\"dataframe\">\n",
       "  <thead>\n",
       "    <tr style=\"text-align: right;\">\n",
       "      <th></th>\n",
       "      <th>Id</th>\n",
       "      <th>MSSubClass</th>\n",
       "      <th>MSZoning</th>\n",
       "      <th>LotFrontage</th>\n",
       "      <th>LotArea</th>\n",
       "      <th>Alley</th>\n",
       "      <th>LotShape</th>\n",
       "      <th>LandContour</th>\n",
       "      <th>LotConfig</th>\n",
       "      <th>LandSlope</th>\n",
       "      <th>...</th>\n",
       "      <th>YrBltAndRemod</th>\n",
       "      <th>TotalSF</th>\n",
       "      <th>Total_sqr_footage</th>\n",
       "      <th>Total_Bathrooms</th>\n",
       "      <th>Total_porch_sf</th>\n",
       "      <th>haspool</th>\n",
       "      <th>has2ndfloor</th>\n",
       "      <th>hasgarage</th>\n",
       "      <th>hasbsmt</th>\n",
       "      <th>hasfireplace</th>\n",
       "    </tr>\n",
       "  </thead>\n",
       "  <tbody>\n",
       "    <tr>\n",
       "      <th>0</th>\n",
       "      <td>1</td>\n",
       "      <td>10</td>\n",
       "      <td>RL</td>\n",
       "      <td>65.0</td>\n",
       "      <td>8450</td>\n",
       "      <td>1</td>\n",
       "      <td>3</td>\n",
       "      <td>Lvl</td>\n",
       "      <td>Inside</td>\n",
       "      <td>0</td>\n",
       "      <td>...</td>\n",
       "      <td>4006</td>\n",
       "      <td>2566.0</td>\n",
       "      <td>2416.0</td>\n",
       "      <td>3.5</td>\n",
       "      <td>61</td>\n",
       "      <td>0</td>\n",
       "      <td>1</td>\n",
       "      <td>1</td>\n",
       "      <td>1</td>\n",
       "      <td>0</td>\n",
       "    </tr>\n",
       "    <tr>\n",
       "      <th>1</th>\n",
       "      <td>2</td>\n",
       "      <td>5</td>\n",
       "      <td>RL</td>\n",
       "      <td>80.0</td>\n",
       "      <td>9600</td>\n",
       "      <td>1</td>\n",
       "      <td>3</td>\n",
       "      <td>Lvl</td>\n",
       "      <td>FR2</td>\n",
       "      <td>0</td>\n",
       "      <td>...</td>\n",
       "      <td>3952</td>\n",
       "      <td>2524.0</td>\n",
       "      <td>2240.0</td>\n",
       "      <td>2.5</td>\n",
       "      <td>298</td>\n",
       "      <td>0</td>\n",
       "      <td>0</td>\n",
       "      <td>1</td>\n",
       "      <td>1</td>\n",
       "      <td>1</td>\n",
       "    </tr>\n",
       "    <tr>\n",
       "      <th>2</th>\n",
       "      <td>3</td>\n",
       "      <td>10</td>\n",
       "      <td>RL</td>\n",
       "      <td>68.0</td>\n",
       "      <td>11250</td>\n",
       "      <td>1</td>\n",
       "      <td>0</td>\n",
       "      <td>Lvl</td>\n",
       "      <td>Inside</td>\n",
       "      <td>0</td>\n",
       "      <td>...</td>\n",
       "      <td>4003</td>\n",
       "      <td>2706.0</td>\n",
       "      <td>2272.0</td>\n",
       "      <td>3.5</td>\n",
       "      <td>42</td>\n",
       "      <td>0</td>\n",
       "      <td>1</td>\n",
       "      <td>1</td>\n",
       "      <td>1</td>\n",
       "      <td>1</td>\n",
       "    </tr>\n",
       "    <tr>\n",
       "      <th>3</th>\n",
       "      <td>4</td>\n",
       "      <td>11</td>\n",
       "      <td>RL</td>\n",
       "      <td>60.0</td>\n",
       "      <td>9550</td>\n",
       "      <td>1</td>\n",
       "      <td>0</td>\n",
       "      <td>Lvl</td>\n",
       "      <td>Corner</td>\n",
       "      <td>0</td>\n",
       "      <td>...</td>\n",
       "      <td>3885</td>\n",
       "      <td>2473.0</td>\n",
       "      <td>1933.0</td>\n",
       "      <td>2.0</td>\n",
       "      <td>307</td>\n",
       "      <td>0</td>\n",
       "      <td>1</td>\n",
       "      <td>1</td>\n",
       "      <td>1</td>\n",
       "      <td>1</td>\n",
       "    </tr>\n",
       "    <tr>\n",
       "      <th>4</th>\n",
       "      <td>5</td>\n",
       "      <td>10</td>\n",
       "      <td>RL</td>\n",
       "      <td>84.0</td>\n",
       "      <td>14260</td>\n",
       "      <td>1</td>\n",
       "      <td>0</td>\n",
       "      <td>Lvl</td>\n",
       "      <td>FR2</td>\n",
       "      <td>0</td>\n",
       "      <td>...</td>\n",
       "      <td>4000</td>\n",
       "      <td>3343.0</td>\n",
       "      <td>2853.0</td>\n",
       "      <td>3.5</td>\n",
       "      <td>276</td>\n",
       "      <td>0</td>\n",
       "      <td>1</td>\n",
       "      <td>1</td>\n",
       "      <td>1</td>\n",
       "      <td>1</td>\n",
       "    </tr>\n",
       "    <tr>\n",
       "      <th>...</th>\n",
       "      <td>...</td>\n",
       "      <td>...</td>\n",
       "      <td>...</td>\n",
       "      <td>...</td>\n",
       "      <td>...</td>\n",
       "      <td>...</td>\n",
       "      <td>...</td>\n",
       "      <td>...</td>\n",
       "      <td>...</td>\n",
       "      <td>...</td>\n",
       "      <td>...</td>\n",
       "      <td>...</td>\n",
       "      <td>...</td>\n",
       "      <td>...</td>\n",
       "      <td>...</td>\n",
       "      <td>...</td>\n",
       "      <td>...</td>\n",
       "      <td>...</td>\n",
       "      <td>...</td>\n",
       "      <td>...</td>\n",
       "      <td>...</td>\n",
       "    </tr>\n",
       "    <tr>\n",
       "      <th>2907</th>\n",
       "      <td>2915</td>\n",
       "      <td>2</td>\n",
       "      <td>RM</td>\n",
       "      <td>21.0</td>\n",
       "      <td>1936</td>\n",
       "      <td>1</td>\n",
       "      <td>3</td>\n",
       "      <td>Lvl</td>\n",
       "      <td>Inside</td>\n",
       "      <td>0</td>\n",
       "      <td>...</td>\n",
       "      <td>3940</td>\n",
       "      <td>1638.0</td>\n",
       "      <td>1092.0</td>\n",
       "      <td>1.5</td>\n",
       "      <td>0</td>\n",
       "      <td>0</td>\n",
       "      <td>1</td>\n",
       "      <td>0</td>\n",
       "      <td>1</td>\n",
       "      <td>0</td>\n",
       "    </tr>\n",
       "    <tr>\n",
       "      <th>2908</th>\n",
       "      <td>2916</td>\n",
       "      <td>2</td>\n",
       "      <td>RM</td>\n",
       "      <td>21.0</td>\n",
       "      <td>1894</td>\n",
       "      <td>1</td>\n",
       "      <td>3</td>\n",
       "      <td>Lvl</td>\n",
       "      <td>Inside</td>\n",
       "      <td>0</td>\n",
       "      <td>...</td>\n",
       "      <td>3940</td>\n",
       "      <td>1638.0</td>\n",
       "      <td>1344.0</td>\n",
       "      <td>1.5</td>\n",
       "      <td>24</td>\n",
       "      <td>0</td>\n",
       "      <td>1</td>\n",
       "      <td>1</td>\n",
       "      <td>1</td>\n",
       "      <td>0</td>\n",
       "    </tr>\n",
       "    <tr>\n",
       "      <th>2909</th>\n",
       "      <td>2917</td>\n",
       "      <td>5</td>\n",
       "      <td>RL</td>\n",
       "      <td>160.0</td>\n",
       "      <td>20000</td>\n",
       "      <td>1</td>\n",
       "      <td>3</td>\n",
       "      <td>Lvl</td>\n",
       "      <td>Inside</td>\n",
       "      <td>0</td>\n",
       "      <td>...</td>\n",
       "      <td>3956</td>\n",
       "      <td>2448.0</td>\n",
       "      <td>2448.0</td>\n",
       "      <td>2.0</td>\n",
       "      <td>474</td>\n",
       "      <td>0</td>\n",
       "      <td>0</td>\n",
       "      <td>1</td>\n",
       "      <td>1</td>\n",
       "      <td>1</td>\n",
       "    </tr>\n",
       "    <tr>\n",
       "      <th>2910</th>\n",
       "      <td>2918</td>\n",
       "      <td>14</td>\n",
       "      <td>RL</td>\n",
       "      <td>62.0</td>\n",
       "      <td>10441</td>\n",
       "      <td>1</td>\n",
       "      <td>3</td>\n",
       "      <td>Lvl</td>\n",
       "      <td>Inside</td>\n",
       "      <td>0</td>\n",
       "      <td>...</td>\n",
       "      <td>3984</td>\n",
       "      <td>1882.0</td>\n",
       "      <td>1307.0</td>\n",
       "      <td>1.5</td>\n",
       "      <td>112</td>\n",
       "      <td>0</td>\n",
       "      <td>0</td>\n",
       "      <td>0</td>\n",
       "      <td>1</td>\n",
       "      <td>0</td>\n",
       "    </tr>\n",
       "    <tr>\n",
       "      <th>2911</th>\n",
       "      <td>2919</td>\n",
       "      <td>10</td>\n",
       "      <td>RL</td>\n",
       "      <td>74.0</td>\n",
       "      <td>9627</td>\n",
       "      <td>1</td>\n",
       "      <td>3</td>\n",
       "      <td>Lvl</td>\n",
       "      <td>Inside</td>\n",
       "      <td>1</td>\n",
       "      <td>...</td>\n",
       "      <td>3987</td>\n",
       "      <td>2996.0</td>\n",
       "      <td>2758.0</td>\n",
       "      <td>2.5</td>\n",
       "      <td>238</td>\n",
       "      <td>0</td>\n",
       "      <td>1</td>\n",
       "      <td>1</td>\n",
       "      <td>1</td>\n",
       "      <td>1</td>\n",
       "    </tr>\n",
       "  </tbody>\n",
       "</table>\n",
       "<p>2912 rows × 87 columns</p>\n",
       "</div>"
      ],
      "text/plain": [
       "        Id  MSSubClass MSZoning  LotFrontage  LotArea  Alley  LotShape  \\\n",
       "0        1          10       RL         65.0     8450      1         3   \n",
       "1        2           5       RL         80.0     9600      1         3   \n",
       "2        3          10       RL         68.0    11250      1         0   \n",
       "3        4          11       RL         60.0     9550      1         0   \n",
       "4        5          10       RL         84.0    14260      1         0   \n",
       "...    ...         ...      ...          ...      ...    ...       ...   \n",
       "2907  2915           2       RM         21.0     1936      1         3   \n",
       "2908  2916           2       RM         21.0     1894      1         3   \n",
       "2909  2917           5       RL        160.0    20000      1         3   \n",
       "2910  2918          14       RL         62.0    10441      1         3   \n",
       "2911  2919          10       RL         74.0     9627      1         3   \n",
       "\n",
       "     LandContour LotConfig  LandSlope  ... YrBltAndRemod TotalSF  \\\n",
       "0            Lvl    Inside          0  ...          4006  2566.0   \n",
       "1            Lvl       FR2          0  ...          3952  2524.0   \n",
       "2            Lvl    Inside          0  ...          4003  2706.0   \n",
       "3            Lvl    Corner          0  ...          3885  2473.0   \n",
       "4            Lvl       FR2          0  ...          4000  3343.0   \n",
       "...          ...       ...        ...  ...           ...     ...   \n",
       "2907         Lvl    Inside          0  ...          3940  1638.0   \n",
       "2908         Lvl    Inside          0  ...          3940  1638.0   \n",
       "2909         Lvl    Inside          0  ...          3956  2448.0   \n",
       "2910         Lvl    Inside          0  ...          3984  1882.0   \n",
       "2911         Lvl    Inside          1  ...          3987  2996.0   \n",
       "\n",
       "     Total_sqr_footage Total_Bathrooms Total_porch_sf  haspool  has2ndfloor  \\\n",
       "0               2416.0             3.5             61        0            1   \n",
       "1               2240.0             2.5            298        0            0   \n",
       "2               2272.0             3.5             42        0            1   \n",
       "3               1933.0             2.0            307        0            1   \n",
       "4               2853.0             3.5            276        0            1   \n",
       "...                ...             ...            ...      ...          ...   \n",
       "2907            1092.0             1.5              0        0            1   \n",
       "2908            1344.0             1.5             24        0            1   \n",
       "2909            2448.0             2.0            474        0            0   \n",
       "2910            1307.0             1.5            112        0            0   \n",
       "2911            2758.0             2.5            238        0            1   \n",
       "\n",
       "      hasgarage  hasbsmt hasfireplace  \n",
       "0             1        1            0  \n",
       "1             1        1            1  \n",
       "2             1        1            1  \n",
       "3             1        1            1  \n",
       "4             1        1            1  \n",
       "...         ...      ...          ...  \n",
       "2907          0        1            0  \n",
       "2908          1        1            0  \n",
       "2909          1        1            1  \n",
       "2910          0        1            0  \n",
       "2911          1        1            1  \n",
       "\n",
       "[2912 rows x 87 columns]"
      ]
     },
     "execution_count": 20,
     "metadata": {},
     "output_type": "execute_result"
    }
   ],
   "source": [
    "## For ex, if PoolArea = 0 , Then HasPool = 0 too\n",
    "\n",
    "total_features['haspool'] = total_features['PoolArea'].apply(lambda x: 1 if x > 0 else 0)\n",
    "total_features['has2ndfloor'] = total_features['2ndFlrSF'].apply(lambda x: 1 if x > 0 else 0)\n",
    "total_features['hasgarage'] = total_features['GarageArea'].apply(lambda x: 1 if x > 0 else 0)\n",
    "total_features['hasbsmt'] = total_features['TotalBsmtSF'].apply(lambda x: 1 if x > 0 else 0)\n",
    "total_features['hasfireplace'] = total_features['Fireplaces'].apply(lambda x: 1 if x > 0 else 0)\n"
   ]
  },
  {
   "cell_type": "code",
   "execution_count": 21,
   "metadata": {
    "ExecuteTime": {
     "end_time": "2023-04-23T22:25:34.935081Z",
     "start_time": "2023-04-23T22:25:34.885973Z"
    },
    "collapsed": false
   },
   "outputs": [
    {
     "name": "stdout",
     "output_type": "stream",
     "text": [
      "\n",
      "Skew in numerical features: \n",
      "\n"
     ]
    },
    {
     "data": {
      "text/html": [
       "<div>\n",
       "<style scoped>\n",
       "    .dataframe tbody tr th:only-of-type {\n",
       "        vertical-align: middle;\n",
       "    }\n",
       "\n",
       "    .dataframe tbody tr th {\n",
       "        vertical-align: top;\n",
       "    }\n",
       "\n",
       "    .dataframe thead th {\n",
       "        text-align: right;\n",
       "    }\n",
       "</style>\n",
       "<table border=\"1\" class=\"dataframe\">\n",
       "  <thead>\n",
       "    <tr style=\"text-align: right;\">\n",
       "      <th></th>\n",
       "      <th>Skew</th>\n",
       "    </tr>\n",
       "  </thead>\n",
       "  <tbody>\n",
       "    <tr>\n",
       "      <th>MiscVal</th>\n",
       "      <td>21.920854</td>\n",
       "    </tr>\n",
       "    <tr>\n",
       "      <th>PoolArea</th>\n",
       "      <td>17.673354</td>\n",
       "    </tr>\n",
       "    <tr>\n",
       "      <th>haspool</th>\n",
       "      <td>15.481305</td>\n",
       "    </tr>\n",
       "    <tr>\n",
       "      <th>LotArea</th>\n",
       "      <td>13.150188</td>\n",
       "    </tr>\n",
       "    <tr>\n",
       "      <th>LowQualFinSF</th>\n",
       "      <td>12.073977</td>\n",
       "    </tr>\n",
       "    <tr>\n",
       "      <th>3SsnPorch</th>\n",
       "      <td>11.362112</td>\n",
       "    </tr>\n",
       "    <tr>\n",
       "      <th>LandSlope</th>\n",
       "      <td>4.990731</td>\n",
       "    </tr>\n",
       "    <tr>\n",
       "      <th>KitchenAbvGr</th>\n",
       "      <td>4.333199</td>\n",
       "    </tr>\n",
       "    <tr>\n",
       "      <th>BsmtFinSF2</th>\n",
       "      <td>4.140401</td>\n",
       "    </tr>\n",
       "    <tr>\n",
       "      <th>EnclosedPorch</th>\n",
       "      <td>4.008192</td>\n",
       "    </tr>\n",
       "  </tbody>\n",
       "</table>\n",
       "</div>"
      ],
      "text/plain": [
       "                    Skew\n",
       "MiscVal        21.920854\n",
       "PoolArea       17.673354\n",
       "haspool        15.481305\n",
       "LotArea        13.150188\n",
       "LowQualFinSF   12.073977\n",
       "3SsnPorch      11.362112\n",
       "LandSlope       4.990731\n",
       "KitchenAbvGr    4.333199\n",
       "BsmtFinSF2      4.140401\n",
       "EnclosedPorch   4.008192"
      ]
     },
     "execution_count": 21,
     "metadata": {},
     "output_type": "execute_result"
    }
   ],
   "source": [
    "numeric_feats = total_features.dtypes[total_features.dtypes != \"object\"].index\n",
    "\n",
    "# Check the skew of all numerical features\n",
    "skewed_feats = total_features[numeric_feats].apply(lambda x: skew(x.dropna())).sort_values(ascending=False)\n",
    "\n",
    "skewness = pd.DataFrame({'Skew' :skewed_feats})"
   ]
  },
  {
   "cell_type": "code",
   "execution_count": 22,
   "metadata": {
    "ExecuteTime": {
     "end_time": "2023-04-23T22:25:43.804254Z",
     "start_time": "2023-04-23T22:25:43.753656Z"
    },
    "collapsed": false
   },
   "outputs": [
    {
     "name": "stdout",
     "output_type": "stream",
     "text": [
      "There are 67 skewed numerical features to Box Cox transform\n"
     ]
    }
   ],
   "source": [
    "skewness = skewness[abs(skewness) > 0.75]\n",
    "\n",
    "from scipy.special import boxcox1p\n",
    "skewed_features = skewness.index\n",
    "lam = 0.15\n",
    "for feat in skewed_features:\n",
    "    #all_data[feat] += 1\n",
    "    total_features[feat] = boxcox1p(total_features[feat], lam)"
   ]
  },
  {
   "cell_type": "code",
   "execution_count": 23,
   "metadata": {
    "ExecuteTime": {
     "end_time": "2023-04-23T22:25:48.910846Z",
     "start_time": "2023-04-23T22:25:48.867695Z"
    },
    "collapsed": false
   },
   "outputs": [
    {
     "name": "stdout",
     "output_type": "stream",
     "text": [
      "\n",
      "Skew in numerical features: \n",
      "\n"
     ]
    },
    {
     "data": {
      "text/html": [
       "<div>\n",
       "<style scoped>\n",
       "    .dataframe tbody tr th:only-of-type {\n",
       "        vertical-align: middle;\n",
       "    }\n",
       "\n",
       "    .dataframe tbody tr th {\n",
       "        vertical-align: top;\n",
       "    }\n",
       "\n",
       "    .dataframe thead th {\n",
       "        text-align: right;\n",
       "    }\n",
       "</style>\n",
       "<table border=\"1\" class=\"dataframe\">\n",
       "  <thead>\n",
       "    <tr style=\"text-align: right;\">\n",
       "      <th></th>\n",
       "      <th>Skew</th>\n",
       "    </tr>\n",
       "  </thead>\n",
       "  <tbody>\n",
       "    <tr>\n",
       "      <th>PoolArea</th>\n",
       "      <td>15.745853</td>\n",
       "    </tr>\n",
       "    <tr>\n",
       "      <th>haspool</th>\n",
       "      <td>15.481305</td>\n",
       "    </tr>\n",
       "    <tr>\n",
       "      <th>3SsnPorch</th>\n",
       "      <td>8.913714</td>\n",
       "    </tr>\n",
       "    <tr>\n",
       "      <th>LowQualFinSF</th>\n",
       "      <td>8.733244</td>\n",
       "    </tr>\n",
       "    <tr>\n",
       "      <th>MiscVal</th>\n",
       "      <td>5.589718</td>\n",
       "    </tr>\n",
       "    <tr>\n",
       "      <th>LandSlope</th>\n",
       "      <td>4.545628</td>\n",
       "    </tr>\n",
       "    <tr>\n",
       "      <th>BsmtHalfBath</th>\n",
       "      <td>3.796244</td>\n",
       "    </tr>\n",
       "    <tr>\n",
       "      <th>KitchenAbvGr</th>\n",
       "      <td>3.718111</td>\n",
       "    </tr>\n",
       "    <tr>\n",
       "      <th>ScreenPorch</th>\n",
       "      <td>2.973691</td>\n",
       "    </tr>\n",
       "    <tr>\n",
       "      <th>BsmtFinSF2</th>\n",
       "      <td>2.560119</td>\n",
       "    </tr>\n",
       "  </tbody>\n",
       "</table>\n",
       "</div>"
      ],
      "text/plain": [
       "                   Skew\n",
       "PoolArea      15.745853\n",
       "haspool       15.481305\n",
       "3SsnPorch      8.913714\n",
       "LowQualFinSF   8.733244\n",
       "MiscVal        5.589718\n",
       "LandSlope      4.545628\n",
       "BsmtHalfBath   3.796244\n",
       "KitchenAbvGr   3.718111\n",
       "ScreenPorch    2.973691\n",
       "BsmtFinSF2     2.560119"
      ]
     },
     "execution_count": 23,
     "metadata": {},
     "output_type": "execute_result"
    }
   ],
   "source": [
    "numeric_feats = total_features.dtypes[total_features.dtypes != \"object\"].index\n",
    "\n",
    "# Check the skew of all numerical features\n",
    "skewed_feats = total_features[numeric_feats].apply(lambda x: skew(x.dropna())).sort_values(ascending=False)\n",
    "skewness = pd.DataFrame({'Skew' :skewed_feats})"
   ]
  },
  {
   "cell_type": "code",
   "execution_count": 24,
   "metadata": {
    "ExecuteTime": {
     "end_time": "2023-04-23T22:25:55.097158Z",
     "start_time": "2023-04-23T22:25:55.039121Z"
    },
    "collapsed": false
   },
   "outputs": [
    {
     "data": {
      "text/plain": [
       "(2912, 228)"
      ]
     },
     "execution_count": 24,
     "metadata": {},
     "output_type": "execute_result"
    }
   ],
   "source": [
    "final_features = pd.get_dummies(total_features).reset_index(drop=True)"
   ]
  },
  {
   "cell_type": "code",
   "execution_count": 26,
   "metadata": {
    "ExecuteTime": {
     "end_time": "2023-04-23T22:28:40.345411Z",
     "start_time": "2023-04-23T22:28:40.331026Z"
    },
    "collapsed": false
   },
   "outputs": [
    {
     "name": "stdout",
     "output_type": "stream",
     "text": [
      "(1453, 228)\n"
     ]
    },
    {
     "data": {
      "text/plain": [
       "((1453, 228), (1453,), (1459, 228))"
      ]
     },
     "execution_count": 26,
     "metadata": {},
     "output_type": "execute_result"
    }
   ],
   "source": [
    "#spliting the data into train and test datasets\n",
    "train_data=final_features.iloc[:1453]\n",
    "test_data=final_features.iloc[1453:]\n",
    "print(train_data.shape)\n",
    "test_data.shape\n",
    "\n",
    "X_train = train_data\n",
    "y_train = train_df['SalePrice']\n",
    "X_test = test_data"
   ]
  }
 ],
 "metadata": {
  "kernelspec": {
   "display_name": "Python 3",
   "language": "python",
   "name": "python3"
  },
  "language_info": {
   "codemirror_mode": {
    "name": "ipython",
    "version": 3
   },
   "file_extension": ".py",
   "mimetype": "text/x-python",
   "name": "python",
   "nbconvert_exporter": "python",
   "pygments_lexer": "ipython3",
   "version": "3.11.3"
  }
 },
 "nbformat": 4,
 "nbformat_minor": 0
}
